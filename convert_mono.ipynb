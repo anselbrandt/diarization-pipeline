{
 "cells": [
  {
   "cell_type": "code",
   "execution_count": 15,
   "metadata": {},
   "outputs": [],
   "source": [
    "import os\n",
    "\n",
    "\n",
    "root = os.getcwd()\n",
    "input_dir = os.path.join(root, \"files\")\n",
    "dirs = [\n",
    "    (os.path.join(input_dir, dir), dir)\n",
    "    for dir in os.listdir(input_dir)\n",
    "    if os.path.isdir(os.path.join(input_dir, dir))\n",
    "]"
   ]
  },
  {
   "cell_type": "code",
   "execution_count": 16,
   "metadata": {},
   "outputs": [],
   "source": [
    "files = [\n",
    "    (\n",
    "        os.path.join(dir, file),\n",
    "        os.path.join(dir, file).replace(\"/files/\", \"/mono/\").replace(\".mp3\", \".wav\"),\n",
    "    )\n",
    "    for dir, showname in dirs\n",
    "    for file in os.listdir(dir)\n",
    "    if os.path.isfile(os.path.join(dir, file))\n",
    "    if \".DS_Store\" not in file\n",
    "]"
   ]
  },
  {
   "cell_type": "code",
   "execution_count": 17,
   "metadata": {},
   "outputs": [],
   "source": [
    "output_dir = os.path.join(root, \"mono\")\n",
    "os.makedirs(output_dir, exist_ok=True)\n",
    "\n",
    "for dir in dirs:\n",
    "    show_dir, showname = dir\n",
    "    output_show_dir = os.path.join(output_dir, showname)\n",
    "    os.makedirs(output_show_dir, exist_ok=True)"
   ]
  },
  {
   "cell_type": "code",
   "execution_count": 18,
   "metadata": {},
   "outputs": [],
   "source": [
    "from pydub import AudioSegment\n",
    "\n",
    "for file in files:\n",
    "    input, output = file\n",
    "    episode = AudioSegment.from_mp3(input)\n",
    "    episode.set_channels(1)\n",
    "    episode.export(output, format=\"wav\")"
   ]
  }
 ],
 "metadata": {
  "kernelspec": {
   "display_name": "Python 3",
   "language": "python",
   "name": "python3"
  },
  "language_info": {
   "codemirror_mode": {
    "name": "ipython",
    "version": 3
   },
   "file_extension": ".py",
   "mimetype": "text/x-python",
   "name": "python",
   "nbconvert_exporter": "python",
   "pygments_lexer": "ipython3",
   "version": "3.12.3"
  }
 },
 "nbformat": 4,
 "nbformat_minor": 2
}
